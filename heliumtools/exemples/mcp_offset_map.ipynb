{
 "cells": [
  {
   "cell_type": "markdown",
   "metadata": {},
   "source": [
    "# Utilisation de la classe MCP_offset_map\n",
    "\n",
    "This class is usefull when one requires to build MCP offset maps. It works as follows :\n",
    "- the only argument you give to this class is the path (unix string like object) to the folder in which you want to store the data or in which the data already exist. \n",
    "- If it is empty, it will creat a empty SQLite database. First thing you have to do is to add sequences to this database. To do so, use the instruction `add_sequence_to_database('Path/To/your/sequences')`. In this case, the programm tries to get the reference of this sequence (of the form yyy/mm/dd/seq) and search into its first database (whos name is sequences) if this sequences was already add to the database or not. If not, it adds it (the 'atoms' table), looping over all cycles of the sequence. Such an operation takes a few minutes for really large sequences.\n",
    "- What we add to the atom database are the following elements : \n",
    "    - deltaX : position on X of the atom,\n",
    "    - deltaY : position on Y of the atom,\n",
    "    - offset : offset of the atom, X2+X1-Y2-Y2\n",
    "- Once you've built the database, you can compute the statistical properties of your MCP. To do so, you just have to call update_result() : this function will loop over all X pixels of the MCP and load atoms that where found at this X position : we calculate the number of count, the mean offset, std, min and max at each Y position and store it into a dataframe named 'result'. This dataframe (size : 1500x1500x8) is then store into a pkl file whose name is result.pkl. Note that this step is quite long (an hour typically). Note also that if your compute have a huge memory, you might be able to load all the atom database in one shot using : \n",
    "\n",
    "```\n",
    "mcp_map = MCP_offset_map(\"your/folder/database\")\n",
    "mcp_map.connect_to_database()\n",
    "all_atoms = pd.read_sql_query(\"SELECT * FROM atoms\", mcp_map.connexion)\n",
    "```"
   ]
  },
  {
   "cell_type": "markdown",
   "metadata": {},
   "source": [
    "## Création de la base de donnée"
   ]
  },
  {
   "cell_type": "code",
   "execution_count": null,
   "metadata": {},
   "outputs": [],
   "source": [
    "import numpy as np\n",
    "import pandas as pd\n",
    "import matplotlib.pyplot as plt\n",
    "from heliumtools.mcp_offset_map import MCP_offset_map\n",
    "\n",
    "mcp_map = MCP_offset_map(\"/home/victor/mcpmaps/\")\n",
    "mcp_map.add_sequence_to_database(\"/mnt/manip_E/2022/07/15/007\")\n",
    "mcp_map.add_sequence_to_database(\"/mnt/manip_E/2022/07/15/029\")\n",
    "mcp_map.add_sequence_to_database(\"/mnt/manip_E/2022/07/18/004\")\n",
    "mcp_map.add_sequence_to_database(\"/mnt/manip_E/2022/07/18/005\")\n",
    "mcp_map.add_sequence_to_database(\"/mnt/manip_E/2022/07/19/004\")\n",
    "mcp_map.add_sequence_to_database(\"/mnt/manip_E/2022/07/19/005\")\n",
    "mcp_map.add_sequence_to_database(\"/mnt/manip_E/2022/07/19/007\")\n",
    "mcp_map.add_sequence_to_database(\"/mnt/manip_E/2022/07/19/008\")\n",
    "mcp_map.add_sequence_to_database(\"/mnt/manip_E/2022/07/19/014\")\n",
    "### on update le fichier résultat (/!\\ très long....)\n",
    "mcp_map.update_result()"
   ]
  },
  {
   "cell_type": "markdown",
   "metadata": {},
   "source": [
    "## Visualisation des cartes de données\n",
    "\n",
    "La classe MCP_offset_map possède quelques méthodes implémentées à la va vite pour visualiser les données mais il est sûrement plus intéressant de charger directement les données pour les analyser soi-même. Pour cela, il suffit simplement de charger le fichier result.pkl du dossier ou bien de récupérer le dataframe `mcp_map.result` de la classe.\n",
    "\n",
    "Les différentes fonctions permettant de visualiser les données sont les suivantes : \n",
    "\n",
    "- "
   ]
  },
  {
   "cell_type": "code",
   "execution_count": null,
   "metadata": {},
   "outputs": [],
   "source": []
  },
  {
   "cell_type": "code",
   "execution_count": null,
   "metadata": {},
   "outputs": [],
   "source": []
  },
  {
   "cell_type": "markdown",
   "metadata": {},
   "source": []
  }
 ],
 "metadata": {
  "language_info": {
   "name": "python"
  },
  "orig_nbformat": 4
 },
 "nbformat": 4,
 "nbformat_minor": 2
}
